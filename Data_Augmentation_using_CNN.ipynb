{
  "nbformat": 4,
  "nbformat_minor": 0,
  "metadata": {
    "colab": {
      "provenance": [],
      "authorship_tag": "ABX9TyPQRT7fn2ZfBb+RDGnyjUKK",
      "include_colab_link": true
    },
    "kernelspec": {
      "name": "python3",
      "display_name": "Python 3"
    },
    "language_info": {
      "name": "python"
    }
  },
  "cells": [
    {
      "cell_type": "markdown",
      "metadata": {
        "id": "view-in-github",
        "colab_type": "text"
      },
      "source": [
        "<a href=\"https://colab.research.google.com/github/keshavnirwan/Machine-Learning-Algorithms/blob/main/Data_Augmentation_using_CNN.ipynb\" target=\"_parent\"><img src=\"https://colab.research.google.com/assets/colab-badge.svg\" alt=\"Open In Colab\"/></a>"
      ]
    },
    {
      "cell_type": "code",
      "execution_count": 1,
      "metadata": {
        "id": "NAdo3wIzlIti"
      },
      "outputs": [],
      "source": [
        "from keras.preprocessing.image import ImageDataGenerator,load_img,img_to_array,array_to_img"
      ]
    },
    {
      "cell_type": "code",
      "source": [
        "datagen=ImageDataGenerator(width_shift_range=0.2,height_shift_range=0.2,zoom_range=0.2,rotation_range=40,fill_mode='nearest',horizontal_flip=True,shear_range=0.2)\n"
      ],
      "metadata": {
        "id": "oiQyMwj6ljTP"
      },
      "execution_count": 2,
      "outputs": []
    },
    {
      "cell_type": "code",
      "source": [
        "img=load_img('/content/aeroplane dl.jpg')"
      ],
      "metadata": {
        "id": "O6BuqCW_l8Cp"
      },
      "execution_count": 6,
      "outputs": []
    },
    {
      "cell_type": "code",
      "source": [
        "x=img_to_array(img)\n",
        "x=x.reshape((1,)+x.shape)"
      ],
      "metadata": {
        "id": "BUTfKNadltdF"
      },
      "execution_count": 7,
      "outputs": []
    },
    {
      "cell_type": "code",
      "source": [
        "i=0\n",
        "for batch in datagen.flow(x,batch_size=1,save_to_dir='/content/sample_data/aeroplane',save_prefix='aeroplane',save_format='jpeg'):\n",
        "  i+=1\n",
        "  if i>10:\n",
        "    break"
      ],
      "metadata": {
        "id": "atwxdTcklvnA"
      },
      "execution_count": 8,
      "outputs": []
    }
  ]
}